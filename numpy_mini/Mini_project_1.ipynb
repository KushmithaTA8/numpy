{
  "nbformat": 4,
  "nbformat_minor": 0,
  "metadata": {
    "colab": {
      "provenance": []
    },
    "kernelspec": {
      "name": "python3",
      "display_name": "Python 3"
    },
    "language_info": {
      "name": "python"
    }
  },
  "cells": [
    {
      "cell_type": "code",
      "source": [
        "import numpy as np"
      ],
      "metadata": {
        "id": "oIRfx9hhwcww"
      },
      "execution_count": null,
      "outputs": []
    },
    {
      "cell_type": "markdown",
      "source": [
        "1.**Data Creation:**Create suitable arrays to represent students, subjects, and their marks."
      ],
      "metadata": {
        "id": "9nCZ9gkr2LPm"
      }
    },
    {
      "cell_type": "code",
      "execution_count": null,
      "metadata": {
        "colab": {
          "base_uri": "https://localhost:8080/"
        },
        "id": "O5eQqcOEuE2R",
        "outputId": "b10a8b13-5a4c-4316-b55c-e5f4f1130957"
      },
      "outputs": [
        {
          "output_type": "stream",
          "name": "stdout",
          "text": [
            "[1 2 3 4 5]\n",
            "[1 2 3 4]\n",
            "[[65 75 86 98]\n",
            " [75 77 78 79]\n",
            " [89 57 68 90]\n",
            " [90 95 68 89]\n",
            " [80 85 88 90]]\n"
          ]
        }
      ],
      "source": [
        "students=np.array([1,2,3,4,5])\n",
        "subjects=np.array([1,2,3,4])\n",
        "marks=np.array([\n",
        "    [65,75,86,98],\n",
        "    [75,77,78,79],\n",
        "    [89,57,68,90],\n",
        "    [90,95,68,89],\n",
        "    [80,85,88,90]])\n",
        "print(students)\n",
        "print(subjects)\n",
        "print(marks)"
      ]
    },
    {
      "cell_type": "markdown",
      "source": [
        "2.**Data Exploration:**Explore the properties of these arrays — such as their dimensions, size, and structure."
      ],
      "metadata": {
        "id": "vuH8La9w2Xhf"
      }
    },
    {
      "cell_type": "code",
      "source": [
        "print(marks.ndim)\n",
        "print(marks.size)\n",
        "print(marks.shape)"
      ],
      "metadata": {
        "colab": {
          "base_uri": "https://localhost:8080/"
        },
        "id": "32VVEVTSwXve",
        "outputId": "762e4131-4e6c-46d3-b52a-c9dc898b8a87"
      },
      "execution_count": null,
      "outputs": [
        {
          "output_type": "stream",
          "name": "stdout",
          "text": [
            "2\n",
            "20\n",
            "(5, 4)\n"
          ]
        }
      ]
    },
    {
      "cell_type": "markdown",
      "source": [
        "3.Data Transformation:**Perform necessary reshaping and reorganization of the data to suit various operations."
      ],
      "metadata": {
        "id": "NIIjRcni2ei_"
      }
    },
    {
      "cell_type": "code",
      "source": [
        "reshaped_marks=marks.reshape(10,2)\n",
        "print(\"Reshaped marks:\",reshaped_marks)\n",
        "flattend_marks=marks.flatten()\n",
        "print(\"Flattend marks:\",flattend_marks)"
      ],
      "metadata": {
        "colab": {
          "base_uri": "https://localhost:8080/"
        },
        "id": "ZEAZFVk7wzAw",
        "outputId": "5a61a1e2-4664-483d-eb59-5cf847373bfa"
      },
      "execution_count": null,
      "outputs": [
        {
          "output_type": "stream",
          "name": "stdout",
          "text": [
            "Reshaped marks: [[65 75]\n",
            " [86 98]\n",
            " [75 77]\n",
            " [78 79]\n",
            " [89 57]\n",
            " [68 90]\n",
            " [90 95]\n",
            " [68 89]\n",
            " [80 85]\n",
            " [88 90]]\n",
            "Flattend marks: [65 75 86 98 75 77 78 79 89 57 68 90 90 95 68 89 80 85 88 90]\n"
          ]
        }
      ]
    },
    {
      "cell_type": "markdown",
      "source": [
        "4.Data Combination:**Merge or split arrays to simulate adding new students, new subjects, or reorganizing the dataset."
      ],
      "metadata": {
        "id": "AD5htxO12i9M"
      }
    },
    {
      "cell_type": "code",
      "source": [
        "new_student_marks=np.array([60,85,94,78])\n",
        "marks_added=np.vstack((marks,new_student_marks))\n",
        "print(\"New student marks added:\",marks_added)"
      ],
      "metadata": {
        "colab": {
          "base_uri": "https://localhost:8080/"
        },
        "id": "IMVIK1EZx5kX",
        "outputId": "c0ea97e1-9b43-428d-8391-e8ab8252850e"
      },
      "execution_count": null,
      "outputs": [
        {
          "output_type": "stream",
          "name": "stdout",
          "text": [
            "New student marks added: [[65 75 86 98]\n",
            " [75 77 78 79]\n",
            " [89 57 68 90]\n",
            " [90 95 68 89]\n",
            " [80 85 88 90]\n",
            " [60 85 94 78]]\n"
          ]
        }
      ]
    },
    {
      "cell_type": "markdown",
      "source": [
        "5.Data Modification:**Apply operations to update marks, remove data, or identify unique information."
      ],
      "metadata": {
        "id": "5rz8sF_e22Nx"
      }
    },
    {
      "cell_type": "code",
      "source": [
        "print(marks)\n",
        "marks[0,1]=80\n",
        "print(marks)"
      ],
      "metadata": {
        "colab": {
          "base_uri": "https://localhost:8080/"
        },
        "id": "qn_fHs-bzxeI",
        "outputId": "21f3dd5a-7772-419c-9c0e-c38d7bcbac7b"
      },
      "execution_count": null,
      "outputs": [
        {
          "output_type": "stream",
          "name": "stdout",
          "text": [
            "[[75 77 86 98]\n",
            " [75 57 78 79]\n",
            " [89 95 68 90]\n",
            " [90 95 68 89]\n",
            " [80 85 88 90]]\n",
            "[[75 80 86 98]\n",
            " [75 57 78 79]\n",
            " [89 95 68 90]\n",
            " [90 95 68 89]\n",
            " [80 85 88 90]]\n"
          ]
        }
      ]
    },
    {
      "cell_type": "code",
      "source": [
        "print(marks)\n",
        "marks_removed=np.delete(marks,3,0)\n",
        "print(marks_removed)"
      ],
      "metadata": {
        "colab": {
          "base_uri": "https://localhost:8080/"
        },
        "id": "QGEbX2mjz4Ve",
        "outputId": "f4d4385d-f355-4a1c-e838-1dd12ad5f459"
      },
      "execution_count": null,
      "outputs": [
        {
          "output_type": "stream",
          "name": "stdout",
          "text": [
            "[[75 80 86 98]\n",
            " [75 57 78 79]\n",
            " [89 95 68 90]\n",
            " [90 95 68 89]\n",
            " [80 85 88 90]]\n",
            "[[75 80 86 98]\n",
            " [75 57 78 79]\n",
            " [89 95 68 90]\n",
            " [80 85 88 90]]\n"
          ]
        }
      ]
    },
    {
      "cell_type": "code",
      "source": [
        "np.unique(marks)"
      ],
      "metadata": {
        "colab": {
          "base_uri": "https://localhost:8080/"
        },
        "id": "1iMCJ5qT0luV",
        "outputId": "c0e757dc-3c7e-4e85-9501-8fc8b0b4989a"
      },
      "execution_count": null,
      "outputs": [
        {
          "output_type": "execute_result",
          "data": {
            "text/plain": [
              "array([57, 68, 75, 78, 79, 80, 85, 86, 88, 89, 90, 95, 98])"
            ]
          },
          "metadata": {},
          "execution_count": 30
        }
      ]
    },
    {
      "cell_type": "markdown",
      "source": [
        "6.Data Type Handling:**Demonstrate how the same data can exist in different data types and how changes affect results."
      ],
      "metadata": {
        "id": "ZqwOmqWZ1Ark"
      }
    },
    {
      "cell_type": "code",
      "source": [
        "marks_float=marks.astype(dtype=float)\n",
        "print(marks_float)"
      ],
      "metadata": {
        "colab": {
          "base_uri": "https://localhost:8080/"
        },
        "id": "AMIMNAl41D11",
        "outputId": "707acc66-b396-41f3-e4ac-e2af335e015a"
      },
      "execution_count": null,
      "outputs": [
        {
          "output_type": "stream",
          "name": "stdout",
          "text": [
            "[[75. 80. 86. 98.]\n",
            " [75. 57. 78. 79.]\n",
            " [89. 95. 68. 90.]\n",
            " [90. 95. 68. 89.]\n",
            " [80. 85. 88. 90.]]\n"
          ]
        }
      ]
    },
    {
      "cell_type": "markdown",
      "source": [
        "7.Copy and View Behavior:**Show the difference between creating a full copy of an array and creating a view of the same data."
      ],
      "metadata": {
        "id": "rdru1ncJ1Xh-"
      }
    },
    {
      "cell_type": "code",
      "source": [
        "marks_view=marks.view()\n",
        "marks_view[0,0]=100\n",
        "print(\"Viewed marks:\",marks_view)\n",
        "print(\"original:\",marks)"
      ],
      "metadata": {
        "colab": {
          "base_uri": "https://localhost:8080/"
        },
        "id": "HcI_282C0-G-",
        "outputId": "f748a6fa-55dd-40db-f2e0-e16e96a582db"
      },
      "execution_count": null,
      "outputs": [
        {
          "output_type": "stream",
          "name": "stdout",
          "text": [
            "Viewed marks: [[100  80  86  98]\n",
            " [ 75  57  78  79]\n",
            " [ 89  95  68  90]\n",
            " [ 90  95  68  89]\n",
            " [ 80  85  88  90]]\n",
            "original: [[100  80  86  98]\n",
            " [ 75  57  78  79]\n",
            " [ 89  95  68  90]\n",
            " [ 90  95  68  89]\n",
            " [ 80  85  88  90]]\n"
          ]
        }
      ]
    },
    {
      "cell_type": "code",
      "source": [
        "marks_copy=marks.copy()\n",
        "marks_copy[1,0]=50\n",
        "print(\"Marks copied:\",marks_copy)\n",
        "print(\"Original:\",marks)"
      ],
      "metadata": {
        "colab": {
          "base_uri": "https://localhost:8080/"
        },
        "id": "B3iVyojZ1tWS",
        "outputId": "bb7a3016-5ed9-4f59-c3cb-2f9e5d522f0c"
      },
      "execution_count": null,
      "outputs": [
        {
          "output_type": "stream",
          "name": "stdout",
          "text": [
            "Marks copied: [[100  80  86  98]\n",
            " [ 50  57  78  79]\n",
            " [ 89  95  68  90]\n",
            " [ 90  95  68  89]\n",
            " [ 80  85  88  90]]\n",
            "Original: [[100  80  86  98]\n",
            " [ 75  57  78  79]\n",
            " [ 89  95  68  90]\n",
            " [ 90  95  68  89]\n",
            " [ 80  85  88  90]]\n"
          ]
        }
      ]
    }
  ]
}